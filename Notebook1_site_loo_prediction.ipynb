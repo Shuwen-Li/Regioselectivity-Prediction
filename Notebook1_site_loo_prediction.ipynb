{
 "cells": [
  {
   "cell_type": "markdown",
   "id": "f03607ab",
   "metadata": {},
   "source": [
    "# Load Dependencies"
   ]
  },
  {
   "cell_type": "code",
   "execution_count": 1,
   "id": "33cce130",
   "metadata": {
    "ExecuteTime": {
     "end_time": "2023-01-04T13:38:03.233817Z",
     "start_time": "2023-01-04T13:38:02.366936Z"
    }
   },
   "outputs": [],
   "source": [
    "import pandas as pd\n",
    "import xgboost as xgb\n",
    "from sklearn import tree\n",
    "from sklearn import linear_model\n",
    "from sklearn.svm import SVR, LinearSVR\n",
    "from sklearn.kernel_ridge import KernelRidge\n",
    "from sklearn.neighbors import KNeighborsRegressor\n",
    "from sklearn.ensemble import RandomForestRegressor,ExtraTreesRegressor,GradientBoostingRegressor,BaggingRegressor\n",
    "from sklearn.model_selection import LeaveOneOut\n",
    "from sklearn.metrics import mean_absolute_error,r2_score\n",
    "from scipy.stats import pearsonr\n",
    "from script.feature_selection import circle\n",
    "import matplotlib.pyplot as plt\n",
    "import seaborn as sns\n",
    "import warnings\n",
    "warnings.filterwarnings(\"ignore\")\n",
    "random_seed=2022"
   ]
  },
  {
   "cell_type": "markdown",
   "id": "e5fc6378",
   "metadata": {
    "ExecuteTime": {
     "end_time": "2023-01-04T13:27:45.925380Z",
     "start_time": "2023-01-04T13:27:45.922361Z"
    }
   },
   "source": [
    "# Load Data"
   ]
  },
  {
   "cell_type": "code",
   "execution_count": 2,
   "id": "2534b1b3",
   "metadata": {
    "ExecuteTime": {
     "end_time": "2023-01-04T13:38:05.497380Z",
     "start_time": "2023-01-04T13:38:05.372626Z"
    },
    "scrolled": true
   },
   "outputs": [],
   "source": [
    "train_num=49\n",
    "df_data=pd.read_excel('./Data/Data.xlsx')\n",
    "ratio=np.array(df_data)[:,8][:train_num]\n",
    "des_all=np.array(df_data)[:,9:]\n",
    "ratio_log=np.array([np.log(i) for i in ratio])\n",
    "des_max=des_all[:train_num,:].max(axis=0)\n",
    "des_min=des_all[:train_num,:].min(axis=0)\n",
    "des_all_std=(des_all-des_min)/(des_max-des_min)"
   ]
  },
  {
   "cell_type": "code",
   "execution_count": 3,
   "id": "473a2583",
   "metadata": {
    "ExecuteTime": {
     "end_time": "2023-01-04T13:38:06.948574Z",
     "start_time": "2023-01-04T13:38:06.929618Z"
    }
   },
   "outputs": [
    {
     "data": {
      "text/html": [
       "<div>\n",
       "<style scoped>\n",
       "    .dataframe tbody tr th:only-of-type {\n",
       "        vertical-align: middle;\n",
       "    }\n",
       "\n",
       "    .dataframe tbody tr th {\n",
       "        vertical-align: top;\n",
       "    }\n",
       "\n",
       "    .dataframe thead th {\n",
       "        text-align: right;\n",
       "    }\n",
       "</style>\n",
       "<table border=\"1\" class=\"dataframe\">\n",
       "  <thead>\n",
       "    <tr style=\"text-align: right;\">\n",
       "      <th></th>\n",
       "      <th>Unnamed: 0</th>\n",
       "      <th>reactant1</th>\n",
       "      <th>reactant2</th>\n",
       "      <th>set1</th>\n",
       "      <th>set2</th>\n",
       "      <th>n(r1)/n(r2)</th>\n",
       "      <th>elecricity</th>\n",
       "      <th>T</th>\n",
       "      <th>ratio</th>\n",
       "      <th>8</th>\n",
       "      <th>...</th>\n",
       "      <th>25</th>\n",
       "      <th>26</th>\n",
       "      <th>27</th>\n",
       "      <th>28</th>\n",
       "      <th>29</th>\n",
       "      <th>30</th>\n",
       "      <th>31</th>\n",
       "      <th>32</th>\n",
       "      <th>33</th>\n",
       "      <th>34</th>\n",
       "    </tr>\n",
       "  </thead>\n",
       "  <tbody>\n",
       "    <tr>\n",
       "      <th>0</th>\n",
       "      <td>0</td>\n",
       "      <td>CC1=CC=CC=C1</td>\n",
       "      <td>C=CC(OCCCC)=O</td>\n",
       "      <td>0</td>\n",
       "      <td>1</td>\n",
       "      <td>10</td>\n",
       "      <td>1</td>\n",
       "      <td>60</td>\n",
       "      <td>2.100000</td>\n",
       "      <td>1.702967</td>\n",
       "      <td>...</td>\n",
       "      <td>0.188588</td>\n",
       "      <td>0.674357</td>\n",
       "      <td>0.677398</td>\n",
       "      <td>0.969871</td>\n",
       "      <td>0.971426</td>\n",
       "      <td>1.081074</td>\n",
       "      <td>1.080450</td>\n",
       "      <td>-0.389886</td>\n",
       "      <td>-0.216763</td>\n",
       "      <td>2.479014</td>\n",
       "    </tr>\n",
       "    <tr>\n",
       "      <th>1</th>\n",
       "      <td>1</td>\n",
       "      <td>CC1=CC=CC=C1</td>\n",
       "      <td>C=CC(OCCCC)=O</td>\n",
       "      <td>0</td>\n",
       "      <td>2</td>\n",
       "      <td>10</td>\n",
       "      <td>1</td>\n",
       "      <td>60</td>\n",
       "      <td>1.909091</td>\n",
       "      <td>1.702967</td>\n",
       "      <td>...</td>\n",
       "      <td>0.189256</td>\n",
       "      <td>0.674357</td>\n",
       "      <td>0.677407</td>\n",
       "      <td>0.969871</td>\n",
       "      <td>0.971746</td>\n",
       "      <td>1.081074</td>\n",
       "      <td>1.080049</td>\n",
       "      <td>-0.389886</td>\n",
       "      <td>-0.216763</td>\n",
       "      <td>2.479014</td>\n",
       "    </tr>\n",
       "    <tr>\n",
       "      <th>2</th>\n",
       "      <td>2</td>\n",
       "      <td>CC1=CC=CC=C1</td>\n",
       "      <td>C=CC(OCCCC)=O</td>\n",
       "      <td>1</td>\n",
       "      <td>2</td>\n",
       "      <td>10</td>\n",
       "      <td>1</td>\n",
       "      <td>60</td>\n",
       "      <td>0.909091</td>\n",
       "      <td>1.703407</td>\n",
       "      <td>...</td>\n",
       "      <td>0.189256</td>\n",
       "      <td>0.677398</td>\n",
       "      <td>0.677407</td>\n",
       "      <td>0.971426</td>\n",
       "      <td>0.971746</td>\n",
       "      <td>1.080450</td>\n",
       "      <td>1.080049</td>\n",
       "      <td>-0.389886</td>\n",
       "      <td>-0.216763</td>\n",
       "      <td>2.479014</td>\n",
       "    </tr>\n",
       "    <tr>\n",
       "      <th>3</th>\n",
       "      <td>3</td>\n",
       "      <td>C12=CC=CC=C1C=CC=C2</td>\n",
       "      <td>C=CC(OCCCC)=O</td>\n",
       "      <td>0</td>\n",
       "      <td>1</td>\n",
       "      <td>5</td>\n",
       "      <td>1</td>\n",
       "      <td>60</td>\n",
       "      <td>2.800000</td>\n",
       "      <td>1.700055</td>\n",
       "      <td>...</td>\n",
       "      <td>0.189094</td>\n",
       "      <td>0.663741</td>\n",
       "      <td>0.666087</td>\n",
       "      <td>0.968543</td>\n",
       "      <td>0.971183</td>\n",
       "      <td>1.081061</td>\n",
       "      <td>1.080405</td>\n",
       "      <td>-0.377368</td>\n",
       "      <td>-0.257932</td>\n",
       "      <td>1.927644</td>\n",
       "    </tr>\n",
       "    <tr>\n",
       "      <th>4</th>\n",
       "      <td>4</td>\n",
       "      <td>ClC1=C(OC)C=CC=C1</td>\n",
       "      <td>C=CC(OCCCC)=O</td>\n",
       "      <td>0</td>\n",
       "      <td>1</td>\n",
       "      <td>10</td>\n",
       "      <td>1</td>\n",
       "      <td>60</td>\n",
       "      <td>0.625000</td>\n",
       "      <td>1.808682</td>\n",
       "      <td>...</td>\n",
       "      <td>0.189501</td>\n",
       "      <td>0.645294</td>\n",
       "      <td>0.665523</td>\n",
       "      <td>0.964724</td>\n",
       "      <td>0.970356</td>\n",
       "      <td>1.078336</td>\n",
       "      <td>1.079508</td>\n",
       "      <td>-0.382940</td>\n",
       "      <td>-0.236381</td>\n",
       "      <td>2.087947</td>\n",
       "    </tr>\n",
       "    <tr>\n",
       "      <th>...</th>\n",
       "      <td>...</td>\n",
       "      <td>...</td>\n",
       "      <td>...</td>\n",
       "      <td>...</td>\n",
       "      <td>...</td>\n",
       "      <td>...</td>\n",
       "      <td>...</td>\n",
       "      <td>...</td>\n",
       "      <td>...</td>\n",
       "      <td>...</td>\n",
       "      <td>...</td>\n",
       "      <td>...</td>\n",
       "      <td>...</td>\n",
       "      <td>...</td>\n",
       "      <td>...</td>\n",
       "      <td>...</td>\n",
       "      <td>...</td>\n",
       "      <td>...</td>\n",
       "      <td>...</td>\n",
       "      <td>...</td>\n",
       "      <td>...</td>\n",
       "    </tr>\n",
       "    <tr>\n",
       "      <th>171</th>\n",
       "      <td>178</td>\n",
       "      <td>CC1=C(Cl)C=CC=C1Cl</td>\n",
       "      <td>C=CC(OCCCC)=O</td>\n",
       "      <td>0</td>\n",
       "      <td>2</td>\n",
       "      <td>5</td>\n",
       "      <td>1</td>\n",
       "      <td>60</td>\n",
       "      <td>NaN</td>\n",
       "      <td>1.716123</td>\n",
       "      <td>...</td>\n",
       "      <td>0.191708</td>\n",
       "      <td>0.647493</td>\n",
       "      <td>0.647493</td>\n",
       "      <td>0.966527</td>\n",
       "      <td>0.966527</td>\n",
       "      <td>1.078416</td>\n",
       "      <td>1.078416</td>\n",
       "      <td>-0.403884</td>\n",
       "      <td>-0.249023</td>\n",
       "      <td>2.647464</td>\n",
       "    </tr>\n",
       "    <tr>\n",
       "      <th>172</th>\n",
       "      <td>179</td>\n",
       "      <td>CC1=C(Cl)C=CC=C1Cl</td>\n",
       "      <td>C=CC(OCCCC)=O</td>\n",
       "      <td>1</td>\n",
       "      <td>2</td>\n",
       "      <td>5</td>\n",
       "      <td>1</td>\n",
       "      <td>60</td>\n",
       "      <td>NaN</td>\n",
       "      <td>1.732552</td>\n",
       "      <td>...</td>\n",
       "      <td>0.191708</td>\n",
       "      <td>0.649563</td>\n",
       "      <td>0.647493</td>\n",
       "      <td>0.967510</td>\n",
       "      <td>0.966527</td>\n",
       "      <td>1.078610</td>\n",
       "      <td>1.078416</td>\n",
       "      <td>-0.403884</td>\n",
       "      <td>-0.249023</td>\n",
       "      <td>2.647464</td>\n",
       "    </tr>\n",
       "    <tr>\n",
       "      <th>173</th>\n",
       "      <td>183</td>\n",
       "      <td>CC1=CC(C(C)(C)C)=CC(C(C)(C)C)=C1</td>\n",
       "      <td>C=CC(OCCCC)=O</td>\n",
       "      <td>0</td>\n",
       "      <td>1</td>\n",
       "      <td>5</td>\n",
       "      <td>1</td>\n",
       "      <td>60</td>\n",
       "      <td>NaN</td>\n",
       "      <td>3.247917</td>\n",
       "      <td>...</td>\n",
       "      <td>0.186582</td>\n",
       "      <td>0.659148</td>\n",
       "      <td>0.665309</td>\n",
       "      <td>0.959024</td>\n",
       "      <td>0.964251</td>\n",
       "      <td>1.076515</td>\n",
       "      <td>1.078161</td>\n",
       "      <td>-0.376850</td>\n",
       "      <td>-0.206119</td>\n",
       "      <td>2.135690</td>\n",
       "    </tr>\n",
       "    <tr>\n",
       "      <th>174</th>\n",
       "      <td>184</td>\n",
       "      <td>OCC1=CC=CC=C1CO</td>\n",
       "      <td>C=CC(OCCCC)=O</td>\n",
       "      <td>0</td>\n",
       "      <td>1</td>\n",
       "      <td>5</td>\n",
       "      <td>1</td>\n",
       "      <td>60</td>\n",
       "      <td>NaN</td>\n",
       "      <td>1.789384</td>\n",
       "      <td>...</td>\n",
       "      <td>0.188802</td>\n",
       "      <td>0.680891</td>\n",
       "      <td>16.434056</td>\n",
       "      <td>0.964429</td>\n",
       "      <td>0.970808</td>\n",
       "      <td>1.078049</td>\n",
       "      <td>1.079957</td>\n",
       "      <td>-0.390885</td>\n",
       "      <td>-0.225707</td>\n",
       "      <td>2.425742</td>\n",
       "    </tr>\n",
       "    <tr>\n",
       "      <th>175</th>\n",
       "      <td>185</td>\n",
       "      <td>OC1=CC(C)=CC(C)=C1</td>\n",
       "      <td>C=CC(OCCCC)=O</td>\n",
       "      <td>0</td>\n",
       "      <td>1</td>\n",
       "      <td>5</td>\n",
       "      <td>1</td>\n",
       "      <td>60</td>\n",
       "      <td>NaN</td>\n",
       "      <td>1.703620</td>\n",
       "      <td>...</td>\n",
       "      <td>0.192227</td>\n",
       "      <td>0.673902</td>\n",
       "      <td>0.670270</td>\n",
       "      <td>0.968211</td>\n",
       "      <td>0.967170</td>\n",
       "      <td>1.080679</td>\n",
       "      <td>1.078683</td>\n",
       "      <td>-0.373540</td>\n",
       "      <td>-0.212497</td>\n",
       "      <td>1.950269</td>\n",
       "    </tr>\n",
       "  </tbody>\n",
       "</table>\n",
       "<p>176 rows × 36 columns</p>\n",
       "</div>"
      ],
      "text/plain": [
       "     Unnamed: 0                         reactant1      reactant2  set1  set2  \\\n",
       "0             0                      CC1=CC=CC=C1  C=CC(OCCCC)=O     0     1   \n",
       "1             1                      CC1=CC=CC=C1  C=CC(OCCCC)=O     0     2   \n",
       "2             2                      CC1=CC=CC=C1  C=CC(OCCCC)=O     1     2   \n",
       "3             3               C12=CC=CC=C1C=CC=C2  C=CC(OCCCC)=O     0     1   \n",
       "4             4                 ClC1=C(OC)C=CC=C1  C=CC(OCCCC)=O     0     1   \n",
       "..          ...                               ...            ...   ...   ...   \n",
       "171         178                CC1=C(Cl)C=CC=C1Cl  C=CC(OCCCC)=O     0     2   \n",
       "172         179                CC1=C(Cl)C=CC=C1Cl  C=CC(OCCCC)=O     1     2   \n",
       "173         183  CC1=CC(C(C)(C)C)=CC(C(C)(C)C)=C1  C=CC(OCCCC)=O     0     1   \n",
       "174         184                   OCC1=CC=CC=C1CO  C=CC(OCCCC)=O     0     1   \n",
       "175         185                OC1=CC(C)=CC(C)=C1  C=CC(OCCCC)=O     0     1   \n",
       "\n",
       "     n(r1)/n(r2)  elecricity   T     ratio         8  ...        25        26  \\\n",
       "0             10           1  60  2.100000  1.702967  ...  0.188588  0.674357   \n",
       "1             10           1  60  1.909091  1.702967  ...  0.189256  0.674357   \n",
       "2             10           1  60  0.909091  1.703407  ...  0.189256  0.677398   \n",
       "3              5           1  60  2.800000  1.700055  ...  0.189094  0.663741   \n",
       "4             10           1  60  0.625000  1.808682  ...  0.189501  0.645294   \n",
       "..           ...         ...  ..       ...       ...  ...       ...       ...   \n",
       "171            5           1  60       NaN  1.716123  ...  0.191708  0.647493   \n",
       "172            5           1  60       NaN  1.732552  ...  0.191708  0.649563   \n",
       "173            5           1  60       NaN  3.247917  ...  0.186582  0.659148   \n",
       "174            5           1  60       NaN  1.789384  ...  0.188802  0.680891   \n",
       "175            5           1  60       NaN  1.703620  ...  0.192227  0.673902   \n",
       "\n",
       "            27        28        29        30        31        32        33  \\\n",
       "0     0.677398  0.969871  0.971426  1.081074  1.080450 -0.389886 -0.216763   \n",
       "1     0.677407  0.969871  0.971746  1.081074  1.080049 -0.389886 -0.216763   \n",
       "2     0.677407  0.971426  0.971746  1.080450  1.080049 -0.389886 -0.216763   \n",
       "3     0.666087  0.968543  0.971183  1.081061  1.080405 -0.377368 -0.257932   \n",
       "4     0.665523  0.964724  0.970356  1.078336  1.079508 -0.382940 -0.236381   \n",
       "..         ...       ...       ...       ...       ...       ...       ...   \n",
       "171   0.647493  0.966527  0.966527  1.078416  1.078416 -0.403884 -0.249023   \n",
       "172   0.647493  0.967510  0.966527  1.078610  1.078416 -0.403884 -0.249023   \n",
       "173   0.665309  0.959024  0.964251  1.076515  1.078161 -0.376850 -0.206119   \n",
       "174  16.434056  0.964429  0.970808  1.078049  1.079957 -0.390885 -0.225707   \n",
       "175   0.670270  0.968211  0.967170  1.080679  1.078683 -0.373540 -0.212497   \n",
       "\n",
       "           34  \n",
       "0    2.479014  \n",
       "1    2.479014  \n",
       "2    2.479014  \n",
       "3    1.927644  \n",
       "4    2.087947  \n",
       "..        ...  \n",
       "171  2.647464  \n",
       "172  2.647464  \n",
       "173  2.135690  \n",
       "174  2.425742  \n",
       "175  1.950269  \n",
       "\n",
       "[176 rows x 36 columns]"
      ]
     },
     "execution_count": 3,
     "metadata": {},
     "output_type": "execute_result"
    }
   ],
   "source": [
    "df_data"
   ]
  },
  {
   "cell_type": "markdown",
   "id": "5540486d",
   "metadata": {},
   "source": [
    "# Model Selection"
   ]
  },
  {
   "cell_type": "code",
   "execution_count": 4,
   "id": "85c26f44",
   "metadata": {
    "ExecuteTime": {
     "end_time": "2023-01-04T13:38:08.779224Z",
     "start_time": "2023-01-04T13:38:08.773061Z"
    }
   },
   "outputs": [],
   "source": [
    "models = [BaggingRegressor(random_state=random_seed,n_jobs=60),\n",
    "          tree.DecisionTreeRegressor(random_state=random_seed),\n",
    "          ExtraTreesRegressor(random_state=random_seed,n_jobs=60),\n",
    "          GradientBoostingRegressor(random_state=random_seed,),\n",
    "          KNeighborsRegressor(n_jobs=60,),KernelRidge(),\n",
    "          LinearSVR(random_state=random_seed,),RandomForestRegressor(random_state=random_seed,n_jobs=60),\n",
    "          linear_model.Ridge(random_state=random_seed,alpha=.5),SVR(), \n",
    "          xgb.XGBRegressor(random_state=random_seed,n_jobs=60)]\n",
    "model_names = ['BG','DT','ET','GB','KNR','KRR','LSVR','RF','Ridge','SVR','XGB']\n",
    "descs = [des_all_std[0:train_num]]\n",
    "desc_names = ['CD']"
   ]
  },
  {
   "cell_type": "code",
   "execution_count": 5,
   "id": "39ba0af4",
   "metadata": {
    "ExecuteTime": {
     "end_time": "2023-01-04T13:38:29.535653Z",
     "start_time": "2023-01-04T13:38:09.899308Z"
    },
    "scrolled": true
   },
   "outputs": [
    {
     "name": "stdout",
     "output_type": "stream",
     "text": [
      "Model:    BG, Descriptor:              CD: R2: 0.5594, MAE: 0.7874, Pearson R: 0.7523\n",
      "Model:    DT, Descriptor:              CD: R2: 0.5355, MAE: 0.7480, Pearson R: 0.7865\n",
      "Model:    ET, Descriptor:              CD: R2: 0.6919, MAE: 0.6614, Pearson R: 0.8690\n",
      "Model:    GB, Descriptor:              CD: R2: 0.6456, MAE: 0.6505, Pearson R: 0.8060\n",
      "Model:   KNR, Descriptor:              CD: R2: 0.2430, MAE: 1.0390, Pearson R: 0.4994\n",
      "Model:   KRR, Descriptor:              CD: R2: 0.5003, MAE: 0.7981, Pearson R: 0.7314\n",
      "Model:  LSVR, Descriptor:              CD: R2: 0.5617, MAE: 0.7255, Pearson R: 0.7960\n",
      "Model:    RF, Descriptor:              CD: R2: 0.5657, MAE: 0.7775, Pearson R: 0.7906\n",
      "Model: Ridge, Descriptor:              CD: R2: 0.5396, MAE: 0.7693, Pearson R: 0.7357\n",
      "Model:   SVR, Descriptor:              CD: R2: 0.2819, MAE: 0.9779, Pearson R: 0.6157\n",
      "Model:   XGB, Descriptor:              CD: R2: 0.6738, MAE: 0.6330, Pearson R: 0.8303\n"
     ]
    }
   ],
   "source": [
    "loo = LeaveOneOut()\n",
    "performance_dict = {}\n",
    "for desc,desc_name in zip(descs,desc_names): \n",
    "    desc_=desc\n",
    "    Y_=np.array(ratio_log[:train_num])\n",
    "    for model,model_name in zip(models,model_names):\n",
    "        all_r2 = []\n",
    "        all_pearsr = []\n",
    "        all_mae = []\n",
    "        repeat_pred = []\n",
    "        repeat_test = []\n",
    "        for i in range(1):\n",
    "            all_pred = []\n",
    "            all_test = []\n",
    "            for train_index_tep,test_index_tep in loo.split(desc_):\n",
    "                train_x,test_x = desc_[train_index_tep],desc_[test_index_tep]\n",
    "                train_y,test_y = Y_[train_index_tep],Y_[test_index_tep]\n",
    "                model.fit(train_x,train_y)\n",
    "                test_pred = model.predict(test_x)\n",
    "                all_pred.append(test_pred)\n",
    "                all_test.append(test_y)\n",
    "            all_pred = np.concatenate(all_pred)\n",
    "            all_test = np.concatenate(all_test).reshape(-1)\n",
    "            repeat_pred.append(all_pred)\n",
    "            repeat_test.append(all_test)\n",
    "        all_pred = np.mean(repeat_pred,axis=0)\n",
    "        all_test = np.mean(repeat_test,axis=0)      \n",
    "        r2 = r2_score(all_test,all_pred)\n",
    "        pearsr = pearsonr(all_test,all_pred)[0]\n",
    "        mae = mean_absolute_error(all_test,all_pred)           \n",
    "        performance_dict['%s-%s'%(model_name,desc_name)] = [mae,r2,pearsr,all_pred,all_test]\n",
    "        print('Model: %5s, Descriptor: %15s: R2: %.4f, MAE: %.4f, Pearson R: %.4f'%(\n",
    "        model_name,desc_name,r2,mae,pearsr))"
   ]
  },
  {
   "cell_type": "code",
   "execution_count": 6,
   "id": "5db44821",
   "metadata": {
    "ExecuteTime": {
     "end_time": "2023-01-04T13:38:29.823731Z",
     "start_time": "2023-01-04T13:38:29.709552Z"
    }
   },
   "outputs": [
    {
     "data": {
      "text/plain": [
       "<AxesSubplot:>"
      ]
     },
     "execution_count": 6,
     "metadata": {},
     "output_type": "execute_result"
    },
    {
     "data": {
      "image/png": "[encoded data removed]",
      "text/plain": [
       "<Figure size 2000x100 with 2 Axes>"
      ]
     },
     "metadata": {},
     "output_type": "display_data"
    }
   ],
   "source": [
    "r2_map = np.zeros((len(desc_names),len(model_names)))\n",
    "for i,m in enumerate(model_names):\n",
    "    for j,d in enumerate(desc_names):\n",
    "        r2_map[j,i] = performance_dict['%s-%s'%(m,d)][2]\n",
    "\n",
    "fig = plt.figure(figsize=(20,1))\n",
    "sns.heatmap(r2_map,annot=True,fmt='.3g',xticklabels=model_names,yticklabels=desc_names,cmap='GnBu')"
   ]
  },
  {
   "cell_type": "code",
   "execution_count": 10,
   "id": "036fd26f",
   "metadata": {
    "ExecuteTime": {
     "end_time": "2023-01-05T13:00:12.246504Z",
     "start_time": "2023-01-05T13:00:12.151429Z"
    }
   },
   "outputs": [
    {
     "data": {
      "text/plain": [
       "Text(-4, 1.6, 'MAE: 0.661')"
      ]
     },
     "execution_count": 10,
     "metadata": {},
     "output_type": "execute_result"
    },
    {
     "data": {
      "image/png": "[encoded data removed]",
      "text/plain": [
       "<Figure size 500x500 with 1 Axes>"
      ]
     },
     "metadata": {},
     "output_type": "display_data"
    }
   ],
   "source": [
    "model = 'ET-CD'\n",
    "train_y = performance_dict[model][4]\n",
    "train_p = performance_dict[model][3]\n",
    "\n",
    "colour='royalblue'\n",
    "word=21\n",
    "fig = plt.figure(figsize=(5,5))\n",
    "plt.xticks([-4,-2,0,2,4],fontsize=14)\n",
    "plt.yticks([-4,-2,0,2,4],fontsize=14)\n",
    "plt.xlabel('Experimental value',fontsize=word)\n",
    "plt.ylabel('Predicted value',fontsize=word)\n",
    "plt.plot([-4,4],[-4,4],c=colour,linewidth=4)\n",
    "plt.scatter(np.array(train_y),np.array(train_p),c=colour,s=45, alpha=0.8)\n",
    "plt.text(-4,3.6,'Pearson R: %.3f'%pearsonr(np.array(train_y),np.array(train_p))[0],fontsize=word)\n",
    "plt.text(-4,2.6,'$R^2$: %.3f'%(r2_score(np.array(train_y),np.array(train_p))),fontsize=word)\n",
    "plt.text(-4,1.6,'MAE: %.3f'%mean_absolute_error(np.array(train_y),np.array(train_p)),fontsize=word)"
   ]
  },
  {
   "cell_type": "markdown",
   "id": "0288c178",
   "metadata": {},
   "source": [
    "# Descriptor Selection"
   ]
  },
  {
   "cell_type": "code",
   "execution_count": 9,
   "id": "11f7a708",
   "metadata": {
    "ExecuteTime": {
     "end_time": "2023-01-04T11:05:29.710277Z",
     "start_time": "2023-01-04T10:26:40.271090Z"
    },
    "scrolled": true
   },
   "outputs": [
    {
     "name": "stdout",
     "output_type": "stream",
     "text": [
      "[0.67749103] [0.39565286] 0.8866187511446957 [9]\n",
      "[0.73973139] [0.54641744] 0.7636284087362525 [9, 11]\n",
      "[0.84750324] [0.71416148] 0.6121257395338228 [9, 11, 5]\n",
      "[0.88197588] [0.7617761] 0.5792974628204872 [9, 11, 5, 25]\n",
      "[0.90475302] [0.79576454] 0.5373930378284405 [9, 11, 5, 25, 26]\n",
      "[0.89083762] [0.75857043] 0.5718927663698044 [9, 11, 5, 25, 26, 18]\n",
      "[0.91265678] [0.7924671] 0.518992096905494 [9, 11, 5, 25, 26, 18, 17]\n",
      "[0.91464302] [0.80358488] 0.5251313557578099 [9, 11, 5, 25, 26, 18, 17, 16]\n",
      "[0.91236126] [0.79991993] 0.5262725949601141 [9, 11, 5, 25, 26, 18, 17, 16, 21]\n",
      "[0.90050863] [0.79004433] 0.5073576134005136 [9, 11, 5, 25, 26, 18, 17, 16, 21, 15]\n",
      "[0.92724258] [0.81618797] 0.49820706701965933 [9, 11, 5, 25, 26, 18, 17, 16, 21, 15, 13]\n",
      "[0.92553013] [0.81438572] 0.48788484605832044 [9, 11, 5, 25, 26, 18, 17, 16, 21, 15, 13, 24]\n",
      "[0.90911629] [0.78517122] 0.5428021164413983 [9, 11, 5, 25, 26, 18, 17, 16, 21, 15, 13, 24, 8]\n",
      "[0.91642049] [0.79697276] 0.5131536568545783 [9, 11, 5, 25, 26, 18, 17, 16, 21, 15, 13, 24, 8, 19]\n",
      "[0.9191151] [0.80241028] 0.5362168313106631 [9, 11, 5, 25, 26, 18, 17, 16, 21, 15, 13, 24, 8, 19, 2]\n",
      "[0.91892157] [0.80038007] 0.5161271022240057 [9, 11, 5, 25, 26, 18, 17, 16, 21, 15, 13, 24, 8, 19, 2, 23]\n",
      "[0.91647433] [0.79562349] 0.5174452211256458 [9, 11, 5, 25, 26, 18, 17, 16, 21, 15, 13, 24, 8, 19, 2, 23, 0]\n",
      "[0.91211705] [0.78436503] 0.5330440615886782 [9, 11, 5, 25, 26, 18, 17, 16, 21, 15, 13, 24, 8, 19, 2, 23, 0, 20]\n",
      "[0.91220423] [0.78297429] 0.5495169753233168 [9, 11, 5, 25, 26, 18, 17, 16, 21, 15, 13, 24, 8, 19, 2, 23, 0, 20, 7]\n",
      "[0.90407227] [0.75365725] 0.5718697289189612 [9, 11, 5, 25, 26, 18, 17, 16, 21, 15, 13, 24, 8, 19, 2, 23, 0, 20, 7, 1]\n",
      "[0.90817126] [0.7711631] 0.5628926520294275 [9, 11, 5, 25, 26, 18, 17, 16, 21, 15, 13, 24, 8, 19, 2, 23, 0, 20, 7, 1, 22]\n",
      "[0.89889618] [0.7502976] 0.5823628835094876 [9, 11, 5, 25, 26, 18, 17, 16, 21, 15, 13, 24, 8, 19, 2, 23, 0, 20, 7, 1, 22, 3]\n",
      "[0.90337159] [0.75320337] 0.5876583402605118 [9, 11, 5, 25, 26, 18, 17, 16, 21, 15, 13, 24, 8, 19, 2, 23, 0, 20, 7, 1, 22, 3, 4]\n",
      "[0.88657467] [0.72217453] 0.6337418656900827 [9, 11, 5, 25, 26, 18, 17, 16, 21, 15, 13, 24, 8, 19, 2, 23, 0, 20, 7, 1, 22, 3, 4, 10]\n",
      "[0.86889629] [0.69962877] 0.6474171019562044 [9, 11, 5, 25, 26, 18, 17, 16, 21, 15, 13, 24, 8, 19, 2, 23, 0, 20, 7, 1, 22, 3, 4, 10, 14]\n",
      "[0.85194349] [0.67325801] 0.6793012477035055 [9, 11, 5, 25, 26, 18, 17, 16, 21, 15, 13, 24, 8, 19, 2, 23, 0, 20, 7, 1, 22, 3, 4, 10, 14, 6]\n",
      "[0.84935371] [0.67793111] 0.658938195742361 [9, 11, 5, 25, 26, 18, 17, 16, 21, 15, 13, 24, 8, 19, 2, 23, 0, 20, 7, 1, 22, 3, 4, 10, 14, 6, 12]\n"
     ]
    }
   ],
   "source": [
    "des_sel_max=28\n",
    "tem_des_sel=[]\n",
    "max_pear,max_r2,max_mae,tem_des_sel_max=circle(des_all_std[0:train_num,:28],lable=ratio_log[0:train_num],model=ExtraTreesRegressor(random_state=random_seed,n_jobs=60),des_len=28,tem_des_sel=tem_des_sel)\n",
    "print(max_pear,max_r2,max_mae,tem_des_sel_max)\n",
    "result=[]\n",
    "while True:\n",
    "    tem_des_sel=tem_des_sel_max\n",
    "    max_pear,max_r2,max_mae,tem_des_sel_max=circle(des_all_std[0:train_num,:28],lable=ratio_log[0:train_num],model=ExtraTreesRegressor(random_state=random_seed,n_jobs=60),des_len=28,tem_des_sel=tem_des_sel)\n",
    "    result.append([max_pear,max_r2,max_mae,tem_des_sel_max])\n",
    "    print(max_pear,max_r2,max_mae,tem_des_sel_max)\n",
    "    if len(tem_des_sel_max) ==des_sel_max:\n",
    "        break\n",
    "    else:\n",
    "        continue"
   ]
  },
  {
   "cell_type": "markdown",
   "id": "8567825e",
   "metadata": {},
   "source": [
    "# Prediction "
   ]
  },
  {
   "cell_type": "code",
   "execution_count": 12,
   "id": "8b1eba90",
   "metadata": {
    "ExecuteTime": {
     "end_time": "2023-01-06T05:29:57.964390Z",
     "start_time": "2023-01-06T05:29:51.716628Z"
    }
   },
   "outputs": [],
   "source": [
    "sel_index = [9, 11, 5, 25, 26, 18, 17, 16, 21, 15, 13, 24, 8, 19, 2]\n",
    "des_sel=des_all_std[:train_num,sel_index]\n",
    "ratio_log_train=ratio_log[0:train_num]\n",
    "model = ExtraTreesRegressor(random_state=random_seed,n_jobs=60)\n",
    "all_r2 = []\n",
    "all_pearsr = []\n",
    "all_mae = []\n",
    "repeat_pred = []\n",
    "repeat_test = []\n",
    "for i in range(10):\n",
    "    all_pred = []\n",
    "    all_test = []\n",
    "    for train_index_tep,test_index_tep in loo.split(des_sel):\n",
    "        train_x,test_x = des_sel[train_index_tep],des_sel[test_index_tep]\n",
    "        train_y,test_y = ratio_log_train[train_index_tep],ratio_log_train[test_index_tep] \n",
    "        model.fit(train_x,train_y)\n",
    "        test_pred = model.predict(test_x)\n",
    "        all_pred.append(test_pred)\n",
    "        all_test.append(test_y)\n",
    "    all_pred = np.concatenate(all_pred)\n",
    "    all_test = np.concatenate(all_test).reshape(-1)\n",
    "    repeat_pred.append(all_pred)\n",
    "    repeat_test.append(all_test)\n",
    "train_p = np.mean(repeat_pred,axis=0)\n",
    "train_y = np.mean(repeat_test,axis=0)"
   ]
  },
  {
   "cell_type": "markdown",
   "id": "c703f848",
   "metadata": {},
   "source": [
    "# Results"
   ]
  },
  {
   "cell_type": "code",
   "execution_count": 9,
   "id": "1d74df80",
   "metadata": {
    "ExecuteTime": {
     "end_time": "2023-01-04T13:39:07.231077Z",
     "start_time": "2023-01-04T13:39:07.152858Z"
    }
   },
   "outputs": [
    {
     "data": {
      "text/plain": [
       "Text(-4, 1.6, 'MAE: 0.536')"
      ]
     },
     "execution_count": 9,
     "metadata": {},
     "output_type": "execute_result"
    },
    {
     "data": {
      "image/png": "[encoded data removed]",
      "text/plain": [
       "<Figure size 500x500 with 1 Axes>"
      ]
     },
     "metadata": {},
     "output_type": "display_data"
    }
   ],
   "source": [
    "colour='royalblue'\n",
    "word=21\n",
    "import matplotlib.pyplot as plt\n",
    "fig = plt.figure(figsize=(5,5))\n",
    "plt.xticks([-4,-2,0,2,4],fontsize=14)\n",
    "plt.yticks([-4,-2,0,2,4],fontsize=14)\n",
    "plt.xlabel('Experimental value',fontsize=word)\n",
    "plt.ylabel('Predicted value',fontsize=word)\n",
    "plt.plot([-4,4],[-4,4],c=colour,linewidth=4)\n",
    "plt.scatter(np.array(train_y),np.array(train_p),c=colour,s=45, alpha=0.8)\n",
    "plt.text(-4,3.6,'Pearson R: %.3f'%pearsonr(np.array(train_y),np.array(train_p))[0],fontsize=word)\n",
    "plt.text(-4,2.6,'$R^2$: %.3f'%(r2_score(np.array(train_y),np.array(train_p))),fontsize=word)\n",
    "plt.text(-4,1.6,'MAE: %.3f'%mean_absolute_error(np.array(train_y),np.array(train_p)),fontsize=word)"
   ]
  }
 ],
 "metadata": {
  "kernelspec": {
   "display_name": "Python 3 (ipykernel)",
   "language": "python",
   "name": "python3"
  },
  "language_info": {
   "codemirror_mode": {
    "name": "ipython",
    "version": 3
   },
   "file_extension": ".py",
   "mimetype": "text/x-python",
   "name": "python",
   "nbconvert_exporter": "python",
   "pygments_lexer": "ipython3",
   "version": "3.8.5"
  },
  "toc": {
   "base_numbering": 1,
   "nav_menu": {},
   "number_sections": true,
   "sideBar": true,
   "skip_h1_title": false,
   "title_cell": "Table of Contents",
   "title_sidebar": "Contents",
   "toc_cell": false,
   "toc_position": {
    "height": "calc(100% - 180px)",
    "left": "10px",
    "top": "150px",
    "width": "248.525px"
   },
   "toc_section_display": true,
   "toc_window_display": true
  },
  "varInspector": {
   "cols": {
    "lenName": 16,
    "lenType": 16,
    "lenVar": 40
   },
   "kernels_config": {
    "python": {
     "delete_cmd_postfix": "",
     "delete_cmd_prefix": "del ",
     "library": "var_list.py",
     "varRefreshCmd": "print(var_dic_list())"
    },
    "r": {
     "delete_cmd_postfix": ") ",
     "delete_cmd_prefix": "rm(",
     "library": "var_list.r",
     "varRefreshCmd": "cat(var_dic_list()) "
    }
   },
   "types_to_exclude": [
    "module",
    "function",
    "builtin_function_or_method",
    "instance",
    "_Feature"
   ],
   "window_display": false
  }
 },
 "nbformat": 4,
 "nbformat_minor": 5
}
